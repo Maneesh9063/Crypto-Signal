{
 "cells": [
  {
   "cell_type": "code",
   "execution_count": 2,
   "metadata": {},
   "outputs": [],
   "source": [
    "import requests as rq\n",
    "from bs4 import BeautifulSoup as bs"
   ]
  },
  {
   "cell_type": "code",
   "execution_count": 7,
   "metadata": {},
   "outputs": [],
   "source": [
    "r = rq.get(\"https://coinmarketcap.com/view/stablecoin/\")"
   ]
  },
  {
   "cell_type": "code",
   "execution_count": 8,
   "metadata": {},
   "outputs": [],
   "source": [
    "soup = bs(r.content, 'html.parser')"
   ]
  },
  {
   "cell_type": "code",
   "execution_count": 6,
   "metadata": {},
   "outputs": [],
   "source": [
    "\n",
    "l = ['1GOLD', 'ALUSD', 'BGBP', 'BITCNY', 'BITEUR', 'BITGOLD', 'BITUSD', 'BKRW', 'BRCP', 'BVND', 'CEUR', 'COFFIN', 'CONST', 'CUSD', 'DGD', 'DGX', 'DPT', 'DUSD', 'EBASE', 'EOSDT', 'EURS', 'EURT', 'FLUSD', 'FRAX', 'GUSD', 'HGT', 'HUSD', 'IDRT', 'ITL', 'KBC', 'LUSD', 'MDO', 'MDS', 'MIM', 'MTR', 'MUSD', 'OUSD', 'PAR', 'QC', 'RSV', 'SBD', 'SUSD', 'TRIBE', 'TRYB', 'UETH', 'USDB', 'USDEX', 'USDFL', 'USDK', 'USDL', 'USDP', 'USDQ', 'USDS', 'USDX', 'USNBT', 'VAI', 'XAUR', 'XCHF', 'XEUR', 'XIDR', 'XSGD', 'XUSD', 'ZUSD']"
   ]
  },
  {
   "cell_type": "code",
   "execution_count": 7,
   "metadata": {},
   "outputs": [],
   "source": [
    "l.sort()"
   ]
  },
  {
   "cell_type": "code",
   "execution_count": null,
   "metadata": {},
   "outputs": [],
   "source": [
    "l"
   ]
  },
  {
   "cell_type": "code",
   "execution_count": 9,
   "metadata": {},
   "outputs": [
    {
     "name": "stdout",
     "output_type": "stream",
     "text": [
      "- 1GOLD\n",
      "- ALUSD\n",
      "- BGBP\n",
      "- BITCNY\n",
      "- BITEUR\n",
      "- BITGOLD\n",
      "- BITUSD\n",
      "- BKRW\n",
      "- BRCP\n",
      "- BVND\n",
      "- CEUR\n",
      "- COFFIN\n",
      "- CONST\n",
      "- CUSD\n",
      "- DGD\n",
      "- DGX\n",
      "- DPT\n",
      "- DUSD\n",
      "- EBASE\n",
      "- EOSDT\n",
      "- EURS\n",
      "- EURT\n",
      "- FLUSD\n",
      "- FRAX\n",
      "- GUSD\n",
      "- HGT\n",
      "- HUSD\n",
      "- IDRT\n",
      "- ITL\n",
      "- KBC\n",
      "- LUSD\n",
      "- MDO\n",
      "- MDS\n",
      "- MIM\n",
      "- MTR\n",
      "- MUSD\n",
      "- OUSD\n",
      "- PAR\n",
      "- QC\n",
      "- RSV\n",
      "- SBD\n",
      "- SUSD\n",
      "- TRIBE\n",
      "- TRYB\n",
      "- UETH\n",
      "- USDB\n",
      "- USDEX\n",
      "- USDFL\n",
      "- USDK\n",
      "- USDL\n",
      "- USDP\n",
      "- USDQ\n",
      "- USDS\n",
      "- USDX\n",
      "- USNBT\n",
      "- VAI\n",
      "- XAUR\n",
      "- XCHF\n",
      "- XEUR\n",
      "- XIDR\n",
      "- XSGD\n",
      "- XUSD\n",
      "- ZUSD\n"
     ]
    }
   ],
   "source": [
    "\n",
    "# s = soup.find_all('span', class_='crypto-symbol')\n",
    "# l= []\n",
    "for i in l:\n",
    "#     l.append(i.text)\n",
    "    print(\"-\",i)"
   ]
  },
  {
   "cell_type": "code",
   "execution_count": 28,
   "metadata": {},
   "outputs": [
    {
     "data": {
      "text/plain": [
       "<span class=\"crypto-symbol\">FRAX</span>"
      ]
     },
     "execution_count": 28,
     "metadata": {},
     "output_type": "execute_result"
    }
   ],
   "source": [
    "s\n"
   ]
  },
  {
   "cell_type": "code",
   "execution_count": 29,
   "metadata": {},
   "outputs": [
    {
     "name": "stdout",
     "output_type": "stream",
     "text": [
      "[]\n"
     ]
    }
   ],
   "source": [
    "print(s.find_all('span'))"
   ]
  }
 ],
 "metadata": {
  "kernelspec": {
   "display_name": "Python 3",
   "language": "python",
   "name": "python3"
  },
  "language_info": {
   "codemirror_mode": {
    "name": "ipython",
    "version": 3
   },
   "file_extension": ".py",
   "mimetype": "text/x-python",
   "name": "python",
   "nbconvert_exporter": "python",
   "pygments_lexer": "ipython3",
   "version": "3.7.9"
  }
 },
 "nbformat": 4,
 "nbformat_minor": 4
}
