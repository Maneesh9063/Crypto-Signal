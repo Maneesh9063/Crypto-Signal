{
 "cells": [
  {
   "cell_type": "code",
   "execution_count": 2,
   "metadata": {},
   "outputs": [],
   "source": [
    "import requests as rq\n",
    "from bs4 import BeautifulSoup as bs"
   ]
  },
  {
   "cell_type": "code",
   "execution_count": 7,
   "metadata": {},
   "outputs": [],
   "source": [
    "r = rq.get(\"https://coinmarketcap.com/view/stablecoin/\")"
   ]
  },
  {
   "cell_type": "code",
   "execution_count": 8,
   "metadata": {},
   "outputs": [],
   "source": [
    "soup = bs(r.content, 'html.parser')"
   ]
  },
  {
   "cell_type": "code",
   "execution_count": 33,
   "metadata": {},
   "outputs": [
    {
     "data": {
      "text/plain": [
       "['FRAX',\n",
       " 'LUSD',\n",
       " 'TRIBE',\n",
       " 'HUSD',\n",
       " 'XSGD',\n",
       " 'GUSD',\n",
       " 'USDX',\n",
       " 'SUSD',\n",
       " 'EURS',\n",
       " 'CUSD',\n",
       " 'QC',\n",
       " 'DGD',\n",
       " 'SBD',\n",
       " 'VAI',\n",
       " 'MUSD',\n",
       " 'RSV',\n",
       " 'USDK',\n",
       " 'OUSD',\n",
       " 'IDRT',\n",
       " 'BITCNY',\n",
       " 'EOSDT',\n",
       " 'XCHF',\n",
       " 'DGX',\n",
       " 'XAUR',\n",
       " 'USNBT',\n",
       " 'USDS',\n",
       " 'ITL',\n",
       " 'MIM',\n",
       " 'USDP',\n",
       " 'EURT',\n",
       " 'TRYB',\n",
       " 'BRCP',\n",
       " 'MTR',\n",
       " 'CEUR',\n",
       " 'ALUSD',\n",
       " '1GOLD',\n",
       " 'ZUSD',\n",
       " 'DPT',\n",
       " 'PAR',\n",
       " 'USDB',\n",
       " 'COFFIN',\n",
       " 'MDO',\n",
       " 'XUSD',\n",
       " 'MDS',\n",
       " 'USDQ',\n",
       " 'KBC',\n",
       " 'BVND',\n",
       " 'BITUSD',\n",
       " 'BITGOLD',\n",
       " 'BITEUR',\n",
       " 'HGT',\n",
       " 'CONST',\n",
       " 'XEUR',\n",
       " 'BGBP',\n",
       " 'EBASE',\n",
       " 'BKRW',\n",
       " 'USDL',\n",
       " 'UETH',\n",
       " 'USDEX',\n",
       " 'USDFL',\n",
       " 'FLUSD',\n",
       " 'DUSD',\n",
       " 'XIDR']"
      ]
     },
     "execution_count": 33,
     "metadata": {},
     "output_type": "execute_result"
    }
   ],
   "source": [
    "l"
   ]
  },
  {
   "cell_type": "code",
   "execution_count": 32,
   "metadata": {},
   "outputs": [
    {
     "name": "stdout",
     "output_type": "stream",
     "text": [
      "- FRAX\n",
      "- LUSD\n",
      "- TRIBE\n",
      "- HUSD\n",
      "- XSGD\n",
      "- GUSD\n",
      "- USDX\n",
      "- SUSD\n",
      "- EURS\n",
      "- CUSD\n",
      "- QC\n",
      "- DGD\n",
      "- SBD\n",
      "- VAI\n",
      "- MUSD\n",
      "- RSV\n",
      "- USDK\n",
      "- OUSD\n",
      "- IDRT\n",
      "- BITCNY\n",
      "- EOSDT\n",
      "- XCHF\n",
      "- DGX\n",
      "- XAUR\n",
      "- USNBT\n",
      "- USDS\n",
      "- ITL\n",
      "- MIM\n",
      "- USDP\n",
      "- EURT\n",
      "- TRYB\n",
      "- BRCP\n",
      "- MTR\n",
      "- CEUR\n",
      "- ALUSD\n",
      "- 1GOLD\n",
      "- ZUSD\n",
      "- DPT\n",
      "- PAR\n",
      "- USDB\n",
      "- COFFIN\n",
      "- MDO\n",
      "- XUSD\n",
      "- MDS\n",
      "- USDQ\n",
      "- KBC\n",
      "- BVND\n",
      "- BITUSD\n",
      "- BITGOLD\n",
      "- BITEUR\n",
      "- HGT\n",
      "- CONST\n",
      "- XEUR\n",
      "- BGBP\n",
      "- EBASE\n",
      "- BKRW\n",
      "- USDL\n",
      "- UETH\n",
      "- USDEX\n",
      "- USDFL\n",
      "- FLUSD\n",
      "- DUSD\n",
      "- XIDR\n"
     ]
    }
   ],
   "source": [
    "\n",
    "s = soup.find_all('span', class_='crypto-symbol')\n",
    "l= []\n",
    "for i in s:\n",
    "    l.append(i.text)\n",
    "    print(\"-\",i.text)"
   ]
  },
  {
   "cell_type": "code",
   "execution_count": 28,
   "metadata": {},
   "outputs": [
    {
     "data": {
      "text/plain": [
       "<span class=\"crypto-symbol\">FRAX</span>"
      ]
     },
     "execution_count": 28,
     "metadata": {},
     "output_type": "execute_result"
    }
   ],
   "source": [
    "s\n"
   ]
  },
  {
   "cell_type": "code",
   "execution_count": 29,
   "metadata": {},
   "outputs": [
    {
     "name": "stdout",
     "output_type": "stream",
     "text": [
      "[]\n"
     ]
    }
   ],
   "source": [
    "print(s.find_all('span'))"
   ]
  }
 ],
 "metadata": {
  "kernelspec": {
   "display_name": "Python 3",
   "language": "python",
   "name": "python3"
  },
  "language_info": {
   "codemirror_mode": {
    "name": "ipython",
    "version": 3
   },
   "file_extension": ".py",
   "mimetype": "text/x-python",
   "name": "python",
   "nbconvert_exporter": "python",
   "pygments_lexer": "ipython3",
   "version": "3.7.9"
  }
 },
 "nbformat": 4,
 "nbformat_minor": 4
}
