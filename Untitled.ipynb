{
 "cells": [
  {
   "cell_type": "code",
   "execution_count": 2,
   "metadata": {},
   "outputs": [],
   "source": [
    "import requests as rq\n",
    "from bs4 import BeautifulSoup as bs"
   ]
  },
  {
   "cell_type": "code",
   "execution_count": 7,
   "metadata": {},
   "outputs": [],
   "source": [
    "r = rq.get(\"https://coinmarketcap.com/view/stablecoin/\")"
   ]
  },
  {
   "cell_type": "code",
   "execution_count": 8,
   "metadata": {},
   "outputs": [],
   "source": [
    "soup = bs(r.content, 'html.parser')"
   ]
  },
  {
   "cell_type": "code",
   "execution_count": 6,
   "metadata": {},
   "outputs": [],
   "source": [
    "\n",
    "l = ['1GOLD', 'ALUSD', 'BGBP', 'BITCNY', 'BITEUR', 'BITGOLD', 'BITUSD', 'BKRW', 'BRCP', 'BVND', 'CEUR', 'COFFIN', 'CONST', 'CUSD', 'DGD', 'DGX', 'DPT', 'DUSD', 'EBASE', 'EOSDT', 'EURS', 'EURT', 'FLUSD', 'FRAX', 'GUSD', 'HGT', 'HUSD', 'IDRT', 'ITL', 'KBC', 'LUSD', 'MDO', 'MDS', 'MIM', 'MTR', 'MUSD', 'OUSD', 'PAR', 'QC', 'RSV', 'SBD', 'SUSD', 'TRIBE', 'TRYB', 'UETH', 'USDB', 'USDEX', 'USDFL', 'USDK', 'USDL', 'USDP', 'USDQ', 'USDS', 'USDX', 'USNBT', 'VAI', 'XAUR', 'XCHF', 'XEUR', 'XIDR', 'XSGD', 'XUSD', 'ZUSD']"
   ]
  },
  {
   "cell_type": "code",
   "execution_count": 7,
   "metadata": {},
   "outputs": [],
   "source": [
    "l.sort()"
   ]
  },
  {
   "cell_type": "code",
   "execution_count": null,
   "metadata": {},
   "outputs": [],
   "source": [
    "l"
   ]
  },
  {
   "cell_type": "code",
   "execution_count": null,
   "metadata": {},
   "outputs": [],
   "source": [
    "\n",
    "# s = soup.find_all('span', class_='crypto-symbol')\n",
    "# l= []\n",
    "for i in l:\n",
    "#     l.append(i.text)\n",
    "    print(\"-\",i)"
   ]
  },
  {
   "cell_type": "code",
   "execution_count": 28,
   "metadata": {},
   "outputs": [
    {
     "data": {
      "text/plain": [
       "<span class=\"crypto-symbol\">FRAX</span>"
      ]
     },
     "execution_count": 28,
     "metadata": {},
     "output_type": "execute_result"
    }
   ],
   "source": [
    "s\n"
   ]
  },
  {
   "cell_type": "code",
   "execution_count": 29,
   "metadata": {},
   "outputs": [
    {
     "name": "stdout",
     "output_type": "stream",
     "text": [
      "[]\n"
     ]
    }
   ],
   "source": []
  }
 ],
 "metadata": {
  "kernelspec": {
   "display_name": "Python 3",
   "language": "python",
   "name": "python3"
  },
  "language_info": {
   "codemirror_mode": {
    "name": "ipython",
    "version": 3
   },
   "file_extension": ".py",
   "mimetype": "text/x-python",
   "name": "python",
   "nbconvert_exporter": "python",
   "pygments_lexer": "ipython3",
   "version": "3.7.9"
  }
 },
 "nbformat": 4,
 "nbformat_minor": 4
}
